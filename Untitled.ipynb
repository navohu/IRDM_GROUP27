{
 "cells": [
  {
   "cell_type": "code",
   "execution_count": 1,
   "metadata": {
    "collapsed": false
   },
   "outputs": [
    {
     "ename": "ModuleNotFoundError",
     "evalue": "No module named 'db'",
     "output_type": "error",
     "traceback": [
      "\u001b[0;31m---------------------------------------------------------------------------\u001b[0m",
      "\u001b[0;31mModuleNotFoundError\u001b[0m                       Traceback (most recent call last)",
      "\u001b[0;32m<ipython-input-1-c1c64d5e4f12>\u001b[0m in \u001b[0;36m<module>\u001b[0;34m()\u001b[0m\n\u001b[1;32m      3\u001b[0m \u001b[0;32mfrom\u001b[0m \u001b[0mnltk\u001b[0m\u001b[0;34m.\u001b[0m\u001b[0mstem\u001b[0m\u001b[0;34m.\u001b[0m\u001b[0mporter\u001b[0m \u001b[0;32mimport\u001b[0m \u001b[0mPorterStemmer\u001b[0m\u001b[0;34m\u001b[0m\u001b[0m\n\u001b[1;32m      4\u001b[0m \u001b[0;34m\u001b[0m\u001b[0m\n\u001b[0;32m----> 5\u001b[0;31m \u001b[0;32mfrom\u001b[0m \u001b[0mapp\u001b[0m\u001b[0;34m.\u001b[0m\u001b[0mboolean\u001b[0m\u001b[0;34m.\u001b[0m\u001b[0mboolean_ranking\u001b[0m \u001b[0;32mimport\u001b[0m \u001b[0mBooleanRanking\u001b[0m\u001b[0;34m\u001b[0m\u001b[0m\n\u001b[0m\u001b[1;32m      6\u001b[0m \u001b[0;32mfrom\u001b[0m \u001b[0mapp\u001b[0m\u001b[0;34m.\u001b[0m\u001b[0mquery_likelihood\u001b[0m\u001b[0;34m.\u001b[0m\u001b[0mquery_likelihood_ranking\u001b[0m \u001b[0;32mimport\u001b[0m \u001b[0mQueryLikelihoodRanking\u001b[0m\u001b[0;34m\u001b[0m\u001b[0m\n\u001b[1;32m      7\u001b[0m \u001b[0;34m\u001b[0m\u001b[0m\n",
      "\u001b[0;32m/Users/stevezhang/Desktop/IRDM_GROUP27/app/boolean/boolean_ranking.py\u001b[0m in \u001b[0;36m<module>\u001b[0;34m()\u001b[0m\n\u001b[0;32m----> 1\u001b[0;31m \u001b[0;32mfrom\u001b[0m \u001b[0mapp\u001b[0m\u001b[0;34m.\u001b[0m\u001b[0mranking\u001b[0m \u001b[0;32mimport\u001b[0m \u001b[0mRanking\u001b[0m\u001b[0;34m\u001b[0m\u001b[0m\n\u001b[0m\u001b[1;32m      2\u001b[0m \u001b[0;34m\u001b[0m\u001b[0m\n\u001b[1;32m      3\u001b[0m \u001b[0;32mclass\u001b[0m \u001b[0mBooleanRanking\u001b[0m\u001b[0;34m(\u001b[0m\u001b[0mRanking\u001b[0m\u001b[0;34m)\u001b[0m\u001b[0;34m:\u001b[0m\u001b[0;34m\u001b[0m\u001b[0m\n\u001b[1;32m      4\u001b[0m         \u001b[0;32mdef\u001b[0m \u001b[0m__init__\u001b[0m\u001b[0;34m(\u001b[0m\u001b[0mself\u001b[0m\u001b[0;34m)\u001b[0m\u001b[0;34m:\u001b[0m\u001b[0;34m\u001b[0m\u001b[0m\n\u001b[1;32m      5\u001b[0m                 \u001b[0mRanking\u001b[0m\u001b[0;34m.\u001b[0m\u001b[0m__init__\u001b[0m\u001b[0;34m(\u001b[0m\u001b[0mself\u001b[0m\u001b[0;34m)\u001b[0m\u001b[0;34m\u001b[0m\u001b[0m\n",
      "\u001b[0;32m/Users/stevezhang/Desktop/IRDM_GROUP27/app/ranking.py\u001b[0m in \u001b[0;36m<module>\u001b[0;34m()\u001b[0m\n\u001b[0;32m----> 1\u001b[0;31m \u001b[0;32mfrom\u001b[0m \u001b[0mdb\u001b[0m \u001b[0;32mimport\u001b[0m \u001b[0mMyDB\u001b[0m\u001b[0;34m\u001b[0m\u001b[0m\n\u001b[0m\u001b[1;32m      2\u001b[0m \u001b[0;34m\u001b[0m\u001b[0m\n\u001b[1;32m      3\u001b[0m \u001b[0;32mclass\u001b[0m \u001b[0mRanking\u001b[0m\u001b[0;34m:\u001b[0m\u001b[0;34m\u001b[0m\u001b[0m\n\u001b[1;32m      4\u001b[0m         \u001b[0;34m'''Base class for ranking algorithms'''\u001b[0m\u001b[0;34m\u001b[0m\u001b[0m\n\u001b[1;32m      5\u001b[0m         \u001b[0;32mdef\u001b[0m \u001b[0m__init__\u001b[0m\u001b[0;34m(\u001b[0m\u001b[0mself\u001b[0m\u001b[0;34m)\u001b[0m\u001b[0;34m:\u001b[0m\u001b[0;34m\u001b[0m\u001b[0m\n",
      "\u001b[0;31mModuleNotFoundError\u001b[0m: No module named 'db'"
     ]
    }
   ],
   "source": [
    "import psycopg2\n",
    "from nltk.corpus import stopwords\n",
    "from nltk.stem.porter import PorterStemmer\n",
    "\n",
    "from app.boolean.boolean_ranking import BooleanRanking\n",
    "from app.query_likelihood.query_likelihood_ranking import QueryLikelihoodRanking\n",
    "\n",
    "def processQueryTerms(query_terms):\n",
    "    stop = set(stopwords.words('english'))\n",
    "    stopped_terms = [i for i in query_terms.lower().split() if i not in stop]\n",
    "\n",
    "    # Stemming\n",
    "    porter_stemmer = PorterStemmer()\n",
    "    stemmed_terms = [porter_stemmer.stem(i) for i in stopped_terms]\n",
    "\n",
    "    final_terms = []\n",
    "    for word in stemmed_terms:\n",
    "        word = word.replace(u'\\00', '')\n",
    "        # Split hyphenated words\n",
    "        for w in word.split('-'):\n",
    "            # Trim punctuation\n",
    "            alphanum = filter(unicode.isalnum, w)\n",
    "            final_terms.append(alphanum)\n",
    "    return final_terms\n",
    "\n",
    "def cleanTitle(title):\n",
    "    if title[0] == '{' and title[len(title)-1] == '}':\n",
    "        title = title[1:len(title)-1]\n",
    "    if title[0] == '\"' and title[len(title)-1] == '\"':\n",
    "        title = title[1:len(title)-1]\n",
    "    return title\n",
    "\n",
    "if __name__ == \"__main__\":\n",
    "    max_results = 10\n",
    "    ranking = QueryLikelihoodRanking()\n",
    "    while True:\n",
    "        raw_query_terms = raw_input(\"Enter a search query: \")\n",
    "        query_terms = processQueryTerms(raw_query_terms)\n",
    "        print (\"Searching for \"), query_terms\n",
    "        matches = ranking.rankDocuments(query_terms, max_results)\n",
    "\n",
    "        print (\"Results\")\n",
    "        for match in matches:\n",
    "                print (\"\\t\", cleanTitle(match[0]), \"\\n\\t\\t\", match[1])\n"
   ]
  }
 ],
 "metadata": {
  "kernelspec": {
   "display_name": "Python 3",
   "language": "python",
   "name": "python3"
  },
  "language_info": {
   "codemirror_mode": {
    "name": "ipython",
    "version": 3
   },
   "file_extension": ".py",
   "mimetype": "text/x-python",
   "name": "python",
   "nbconvert_exporter": "python",
   "pygments_lexer": "ipython3",
   "version": "3.6.1"
  }
 },
 "nbformat": 4,
 "nbformat_minor": 2
}
