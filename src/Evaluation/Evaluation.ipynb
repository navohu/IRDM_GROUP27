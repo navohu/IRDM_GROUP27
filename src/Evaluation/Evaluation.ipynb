{
 "cells": [
  {
   "cell_type": "code",
   "execution_count": 722,
   "metadata": {
    "collapsed": false
   },
   "outputs": [],
   "source": [
    "import sklearn as sk\n",
    "import pandas as pd\n",
    "import matplotlib.pyplot as plt\n",
    "import numpy as np\n",
    "import scipy as sp"
   ]
  },
  {
   "cell_type": "markdown",
   "metadata": {},
   "source": [
    "# import csv data"
   ]
  },
  {
   "cell_type": "code",
   "execution_count": 451,
   "metadata": {
    "collapsed": false
   },
   "outputs": [],
   "source": [
    "df_test=pd.read_csv('queries.csv',na_values='none')\n",
    "df_test=df.drop(df.index[[0]])\n",
    "df_ucl=pd.read_csv('ucl_result.csv',names='u')\n",
    "df_trail=pd.read_csv('trail.csv',names=['url1','url2','url3','url4','url5'],na_values='none')\n",
    "df_trail.fillna('none',inplace=1)"
   ]
  },
  {
   "cell_type": "markdown",
   "metadata": {},
   "source": [
    "# functions"
   ]
  },
  {
   "cell_type": "code",
   "execution_count": 400,
   "metadata": {
    "collapsed": false
   },
   "outputs": [],
   "source": [
    "\n",
    "def evaluate(true_df,test_df):\n",
    "    l_prl=[]#positive retrieved links list\n",
    "    l_nrl=[]#negative retrieved links list\n",
    "    l_pr=[]#positive retrieved link numbers\n",
    "    l_nr=[]#negative retrieved link numbers\n",
    "    l_p=[]#total positive\n",
    "    l_r=[]#total retrieved\n",
    "    recall=[]\n",
    "    precision=[]\n",
    "    F1=[]\n",
    "    #df_pr=pd.DataFrame(index=index, columns=columns)\n",
    "    for col in range(0,len(df_trail.columns)-1):\n",
    "        l_prl.append(df_trail[df_trail[df_trail.columns[col]].isin(df_test[df_test.columns[col]].values)].iloc[:,col])\n",
    "        l_nrl.append(df_trail[~df_trail[df_trail.columns[col]].isin(df_test[df_test.columns[col]].values)].iloc[:,col])\n",
    "        l_p.append(len(df_test[df_test.columns[col]]))\n",
    "        l_r.append(len(df_trail[df_trail.columns[col]]))\n",
    "    for n in range(0,len(l_nrl)):\n",
    "        l_nrl[n]=[x for x in l_nrl[n] if x!='none']\n",
    "        l_nr.append(len(l_nrl[n]))\n",
    "        l_pr.append(len(l_prl[n]))\n",
    "    for i in range(0,len(l_p)):    \n",
    "    #recall= retrieved relevant/retrieved relevant+not retrieved relevant\n",
    "        recall.append(l_pr[i]/l_p[i])\n",
    "    #precision = retrieved relevant/total retrieved\n",
    "        precision.append(l_pr[i]/l_r[i])\n",
    "    #F1 score= 2*(recall*precision)/(recall+precision)\n",
    "        F1.append(2*l_pr[i]/l_p[i]*l_pr[i]/l_r[i]/(l_pr[i]/l_r[i]+l_pr[i]/l_p[i]))\n",
    "    return recall,precision,F1"
   ]
  },
  {
   "cell_type": "code",
   "execution_count": 454,
   "metadata": {
    "collapsed": false
   },
   "outputs": [],
   "source": [
    "#compare result from subject to the google result and return a list of boolean values, true: relevant, false:irrelevant\n",
    "def label_rel(df,df_bench):\n",
    "    l_prl=[]#positive retrieved links list\n",
    "    l_nrl=[]#\n",
    "    for col in range(0,len(df.columns)):\n",
    "        l_prl.append(df[df.columns[col]].isin(df_bench[df_bench.columns[col]].values))\n",
    "        #l_nrl.append(df_trail[~df_trail[df_trail.columns[col]].isin(df_test[df_test.columns[col]].values)].iloc[:,col])\n",
    "    return l_prl"
   ]
  },
  {
   "cell_type": "markdown",
   "metadata": {},
   "source": [
    "# create fake test data "
   ]
  },
  {
   "cell_type": "code",
   "execution_count": 624,
   "metadata": {
    "collapsed": false
   },
   "outputs": [],
   "source": [
    "a=[1,0,1,0,1,0,1,1,0,1,0,1,0,1,0,1,1,0,1,0,1,0,1,0,1,1,0,1,0,1,0,0,0,1,1,0,1]\n",
    "b=[1,1,1,0,0,1,1]\n",
    "t=[1,1,1,1,1,1,1,1,1,1,1,1,1,1,1,1,1,1,1,1,1,1,1,1,1,1,1,1,1,1,1,1,1,1,1,1,1]"
   ]
  },
  {
   "cell_type": "markdown",
   "metadata": {},
   "source": [
    "# Plot precision recall curve"
   ]
  },
  {
   "cell_type": "code",
   "execution_count": 696,
   "metadata": {
    "collapsed": false
   },
   "outputs": [],
   "source": [
    "def pr_curve(retrieved_list,num_pos):\n",
    "    a=retrieved_list\n",
    "    #recall= retrieved relevant/retrieved relevant+not retrieved relevant\n",
    "    recall=[]\n",
    "    #precision = retrieved relevant/total retrieved\n",
    "    precision=[]\n",
    "    #num_pos=sum(t)\n",
    "    for i in range(1,len(a)):\n",
    "        recall.append(sum(a[:i])/num_pos)\n",
    "        precision.append(sum(a[:i])/i)\n",
    "    plt.plot(recall,precision,'o')\n",
    "    plt.xlabel('recall')\n",
    "    plt.ylabel('precision')\n",
    "    plt.show()\n",
    "    \n",
    "pr_curve(a,100)"
   ]
  },
  {
   "cell_type": "markdown",
   "metadata": {},
   "source": [
    "# F1, precision and recall"
   ]
  },
  {
   "cell_type": "code",
   "execution_count": 701,
   "metadata": {
    "collapsed": false
   },
   "outputs": [
    {
     "data": {
      "text/plain": [
       "(0.2, 0.5405405405405406, 0.29197080291970806)"
      ]
     },
     "execution_count": 701,
     "metadata": {},
     "output_type": "execute_result"
    }
   ],
   "source": [
    "def f1_pr_rc(retrieved_list,num_pos):\n",
    "    a=retrieved_list\n",
    "    r=sum(a)/num_pos #recall\n",
    "    p=sum(a)/len(a) #precision\n",
    "    F1=2*r*p/(r+p)\n",
    "    return r,p,F1\n",
    "f1_pr_rc(a,100)"
   ]
  },
  {
   "cell_type": "markdown",
   "metadata": {},
   "source": [
    "# Average Precision( AP)"
   ]
  },
  {
   "cell_type": "code",
   "execution_count": 710,
   "metadata": {
    "collapsed": false
   },
   "outputs": [
    {
     "data": {
      "text/plain": [
       "0.6976190476190476"
      ]
     },
     "execution_count": 710,
     "metadata": {},
     "output_type": "execute_result"
    }
   ],
   "source": [
    "#average precision\n",
    "def average_precision(retrieved_list):\n",
    "    a=retrieved_list\n",
    "    #a =[1,0,1,1,0,0,1,0,0,1]\n",
    "    p2=[]\n",
    "    for i,ai in enumerate(a):\n",
    "        if ai == 1:\n",
    "            p2.append(sum(a[:i+1])/(i+1))\n",
    "    ap=sum(p2)/len(p2)\n",
    "    return ap\n",
    "average_precision([1,0,1,1,0,0,1,0,0,1])"
   ]
  },
  {
   "cell_type": "markdown",
   "metadata": {},
   "source": [
    "# Metrics that focus on the top documents\n"
   ]
  },
  {
   "cell_type": "code",
   "execution_count": 630,
   "metadata": {
    "collapsed": false
   },
   "outputs": [
    {
     "data": {
      "text/plain": [
       "0.6"
      ]
     },
     "execution_count": 630,
     "metadata": {},
     "output_type": "execute_result"
    }
   ],
   "source": [
    "#precision at rank k\n",
    "def rank_precision(rank_k,retrieved_list):\n",
    "    precision=sum(retrieved_list[:rank_k])/rank_k\n",
    "    return precision\n",
    "rank_precision(5,a)"
   ]
  },
  {
   "cell_type": "code",
   "execution_count": 655,
   "metadata": {
    "collapsed": false
   },
   "outputs": [
    {
     "data": {
      "text/plain": [
       "0.6666666666666666"
      ]
     },
     "execution_count": 655,
     "metadata": {},
     "output_type": "execute_result"
    }
   ],
   "source": [
    "#R rank \n",
    "def r_rank(num_rd,retrieved_list):\n",
    "    a_trans=np.cumsum(a)\n",
    "    a_l = list(a_trans)\n",
    "    r_precision=num_rd/(a_l.index(num_rd)+1)\n",
    "    return r_precision\n",
    "r_rank(2,a)"
   ]
  },
  {
   "cell_type": "code",
   "execution_count": 658,
   "metadata": {
    "collapsed": false
   },
   "outputs": [
    {
     "data": {
      "text/plain": [
       "1.0"
      ]
     },
     "execution_count": 658,
     "metadata": {},
     "output_type": "execute_result"
    }
   ],
   "source": [
    "#reciprocal rank\n",
    "r_rank(1,a)"
   ]
  },
  {
   "cell_type": "code",
   "execution_count": 663,
   "metadata": {
    "collapsed": false
   },
   "outputs": [
    {
     "data": {
      "text/plain": [
       "0"
      ]
     },
     "execution_count": 663,
     "metadata": {},
     "output_type": "execute_result"
    }
   ],
   "source": [
    "def E_search_length(retrieved_list):\n",
    "    a_trans=np.cumsum(a)\n",
    "    a_l = list(a_trans)\n",
    "    return a_l.index(1)\n",
    "E_search_length(a)"
   ]
  },
  {
   "cell_type": "code",
   "execution_count": 685,
   "metadata": {
    "collapsed": false
   },
   "outputs": [
    {
     "data": {
      "text/plain": [
       "1.6309297535714575"
      ]
     },
     "execution_count": 685,
     "metadata": {},
     "output_type": "execute_result"
    }
   ],
   "source": [
    "#DCG\n",
    "def DCG(k,retrieved_list):\n",
    "    return retrieved_list[0] + np.sum(retrieved_list[1:k] / np.log2(np.arange(2, k + 1)))\n",
    "DCG(3,a)"
   ]
  },
  {
   "cell_type": "code",
   "execution_count": 686,
   "metadata": {
    "collapsed": true
   },
   "outputs": [],
   "source": [
    "#NDCG\n",
    "def NDCG(retrieved_list,best_rank_list):\n",
    "    return DCG(len(retrieved_list),retrieved_list)/DCG(len(retrieved_list),best_rank_list)"
   ]
  },
  {
   "cell_type": "code",
   "execution_count": 689,
   "metadata": {
    "collapsed": false
   },
   "outputs": [
    {
     "data": {
      "image/png": "[encoded data removed]",
      "text/plain": [
       "<matplotlib.figure.Figure at 0x11e178c18>"
      ]
     },
     "metadata": {},
     "output_type": "display_data"
    }
   ],
   "source": [
    "# This is wrong!\n",
    "def pr_curve(retrieved_list):\n",
    "    c=[]\n",
    "    d=[]\n",
    "    t=[1]*len(retrieved_list)\n",
    "    for i in range(0,len(retrieved_list)):\n",
    "        c.append(sk.metrics.precision_score(retrieved_list[:i],t[:i]))\n",
    "        d.append(i/len(retrieved_list))\n",
    "    return c,d\n",
    "c,d=pr_curve(l_prl[3])\n",
    "plt.plot(d,c,'o')\n",
    "plt.show()"
   ]
  },
  {
   "cell_type": "markdown",
   "metadata": {},
   "source": [
    "# TREC give a topic, a description and narrative to specify what is relevant document. "
   ]
  },
  {
   "cell_type": "markdown",
   "metadata": {},
   "source": [
    "# Significance testing"
   ]
  },
  {
   "cell_type": "code",
   "execution_count": null,
   "metadata": {
    "collapsed": true
   },
   "outputs": [],
   "source": [
    "metric_list=metric_rank1-metric_rank2 #using mean precision as the metric"
   ]
  },
  {
   "cell_type": "code",
   "execution_count": 762,
   "metadata": {
    "collapsed": true
   },
   "outputs": [],
   "source": [
    "#list for average precisions\n",
    "def ap_list(retrieved_lists):\n",
    "    apl=[]\n",
    "    for i in retrieved_lists:\n",
    "        apl.append(aeverage_precision(i))\n",
    "    return apl\n",
    "a=[1,0,1]\n",
    "b=[1,1,0]\n",
    "c=[0,0,1]\n",
    "d=[a,b,c]\n",
    "ap_list(d)"
   ]
  },
  {
   "cell_type": "code",
   "execution_count": 749,
   "metadata": {
    "collapsed": false
   },
   "outputs": [],
   "source": [
    "def t_test(apl1,apl2):\n",
    "    a=apl1-apl2\n",
    "    sd=np.std(a)\n",
    "    mean=np.mean(a)\n",
    "    n=len(a)\n",
    "    t=mean/sd*np.sqrt(n)\n",
    "    p=sp.stats.t.sf(t,n-1)\n",
    "    return p\n",
    "\n",
    "#The result would be different from the one given in the note since sd in the note is probably wrong.\n",
    "#reject the null hypothesis that rank A is same to rank B if p value is greater than 0.05 or 0.25"
   ]
  },
  {
   "cell_type": "code",
   "execution_count": 764,
   "metadata": {
    "collapsed": false,
    "scrolled": true
   },
   "outputs": [],
   "source": [
    "def wilcox_test(apl1,apl2):\n",
    "    a=apl1-apl2\n",
    "    sp.stats.wilcoxon(a)"
   ]
  }
 ],
 "metadata": {
  "kernelspec": {
   "display_name": "Python 3",
   "language": "python",
   "name": "python3"
  },
  "language_info": {
   "codemirror_mode": {
    "name": "ipython",
    "version": 3
   },
   "file_extension": ".py",
   "mimetype": "text/x-python",
   "name": "python",
   "nbconvert_exporter": "python",
   "pygments_lexer": "ipython3",
   "version": "3.6.1"
  }
 },
 "nbformat": 4,
 "nbformat_minor": 2
}
