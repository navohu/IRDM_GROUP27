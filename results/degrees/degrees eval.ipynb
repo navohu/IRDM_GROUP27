{
 "cells": [
  {
   "cell_type": "code",
   "execution_count": 2,
   "metadata": {
    "collapsed": false
   },
   "outputs": [],
   "source": [
    "import sklearn as sk\n",
    "import pandas as pd\n",
    "import matplotlib.pyplot as plt\n",
    "import numpy as np\n",
    "import scipy as sp\n",
    "import matplotlib.patches as mpatches"
   ]
  },
  {
   "cell_type": "markdown",
   "metadata": {},
   "source": [
    "# Read data and preprocess"
   ]
  },
  {
   "cell_type": "code",
   "execution_count": 3,
   "metadata": {
    "collapsed": false
   },
   "outputs": [],
   "source": [
    "bm=pd.read_csv('BM25Ranking_degre.csv')\n",
    "q=pd.read_csv('QueryLikelihoodRanking_degre.csv')\n",
    "ti=pd.read_csv('TFIDFRanking_degre.csv')\n",
    "bo=pd.read_csv('BooleanRanking_degre.csv')\n",
    "bmp=pd.read_csv('BM25Ranking_PR_degre.csv')\n",
    "qp=pd.read_csv('QueryLikelihoodRanking_PR_degre.csv')\n",
    "tip=pd.read_csv('TFIDFRanking_PR_degre.csv')"
   ]
  },
  {
   "cell_type": "code",
   "execution_count": 4,
   "metadata": {
    "collapsed": false
   },
   "outputs": [],
   "source": [
    "def change_binary(data):\n",
    "    non_rel=[]\n",
    "    for x in data.relevance:\n",
    "        if x>0:\n",
    "            non_rel.append(1)\n",
    "        else: \n",
    "            non_rel.append(0)\n",
    "    data['b_relevance']=non_rel\n",
    "    return data\n",
    "q=change_binary(q)\n",
    "bm=change_binary(bm)\n",
    "ti=change_binary(ti)\n",
    "bo=change_binary(bo)\n",
    "bmp=change_binary(bmp)\n",
    "qp=change_binary(qp)\n",
    "tip=change_binary(tip)"
   ]
  },
  {
   "cell_type": "code",
   "execution_count": 5,
   "metadata": {
    "collapsed": false
   },
   "outputs": [],
   "source": [
    "frames = [bm,q,ti,bo,bmp,qp,tip]\n",
    "comb = pd.concat(frames)"
   ]
  },
  {
   "cell_type": "code",
   "execution_count": 6,
   "metadata": {
    "collapsed": false
   },
   "outputs": [
    {
     "data": {
      "text/plain": [
       "0    104\n",
       "2     53\n",
       "1     53\n",
       "Name: relevance, dtype: int64"
      ]
     },
     "execution_count": 6,
     "metadata": {},
     "output_type": "execute_result"
    }
   ],
   "source": [
    "comb.relevance.value_counts()"
   ]
  },
  {
   "cell_type": "code",
   "execution_count": 8,
   "metadata": {
    "collapsed": false
   },
   "outputs": [],
   "source": [
    "cl_comb=comb.drop_duplicates()"
   ]
  },
  {
   "cell_type": "code",
   "execution_count": 9,
   "metadata": {
    "collapsed": false
   },
   "outputs": [
    {
     "data": {
      "text/plain": [
       "0    65\n",
       "1    48\n",
       "2    39\n",
       "Name: relevance, dtype: int64"
      ]
     },
     "execution_count": 9,
     "metadata": {},
     "output_type": "execute_result"
    }
   ],
   "source": [
    "cl_comb.relevance.value_counts()"
   ]
  },
  {
   "cell_type": "code",
   "execution_count": 10,
   "metadata": {
    "collapsed": false
   },
   "outputs": [
    {
     "data": {
      "text/plain": [
       "152"
      ]
     },
     "execution_count": 10,
     "metadata": {},
     "output_type": "execute_result"
    }
   ],
   "source": [
    "len(cl_comb)"
   ]
  },
  {
   "cell_type": "markdown",
   "metadata": {},
   "source": [
    "there are overall 152 links, where 65 zeros, 48 ones and 39 twos. \n",
    "\n",
    "65 non-relevant docs, 87 relevant docs."
   ]
  },
  {
   "cell_type": "markdown",
   "metadata": {},
   "source": [
    "# calculate metrics"
   ]
  },
  {
   "cell_type": "code",
   "execution_count": 47,
   "metadata": {
    "collapsed": true
   },
   "outputs": [],
   "source": [
    "def pr_curve(retrieved_list,num_pos):\n",
    "    a=retrieved_list\n",
    "    #recall= retrieved relevant/retrieved relevant+not retrieved relevant\n",
    "    recall=[]\n",
    "    #precision = retrieved relevant/total retrieved\n",
    "    precision=[]\n",
    "    #num_pos=sum(t)\n",
    "    for i in range(1,len(a)):\n",
    "        recall.append(sum(a[:i])/num_pos)\n",
    "        precision.append(sum(a[:i])/i)\n",
    "    a=plt.plot(recall,precision,'-')\n",
    "    #plt.xlabel('recall')\n",
    "    #plt.ylabel('precision')\n",
    "    #plt.show()\n",
    "    return a\n"
   ]
  },
  {
   "cell_type": "code",
   "execution_count": 91,
   "metadata": {
    "collapsed": false
   },
   "outputs": [],
   "source": [
    "a=pr_curve(bm.b_relevance,87),\n",
    "b=pr_curve(q.b_relevance,87),\n",
    "c=pr_curve(ti.b_relevance,87),\n",
    "d=pr_curve(bo.b_relevance,87),"
   ]
  },
  {
   "cell_type": "code",
   "execution_count": 92,
   "metadata": {
    "collapsed": false
   },
   "outputs": [
    {
     "data": {
      "image/png": "[encoded data removed]",
      "text/plain": [
       "<matplotlib.figure.Figure at 0x11b21a470>"
      ]
     },
     "metadata": {},
     "output_type": "display_data"
    },
    {
     "data": {
      "text/plain": [
       "<matplotlib.legend.Legend at 0x11b624e10>"
      ]
     },
     "execution_count": 92,
     "metadata": {},
     "output_type": "execute_result"
    }
   ],
   "source": [
    "plt.show(b)\n",
    "plt.xlabel('recall')\n",
    "plt.ylabel('precision')\n",
    "plt.title('precision against recall plot ‘degrees’')\n",
    "green_patch = mpatches.Patch(color='green', label='tf-idf')\n",
    "orange_patch = mpatches.Patch(color='orange', label='QueryLikelihoodRanking')\n",
    "blue_patch = mpatches.Patch(color='blue', label='bm25')\n",
    "red_patch = mpatches.Patch(color='red', label='boolean ranking')\n",
    "plt.legend(handles=[orange_patch,green_patch,blue_patch,red_patch])\n"
   ]
  },
  {
   "cell_type": "markdown",
   "metadata": {},
   "source": [
    "# recall, precision, F1"
   ]
  },
  {
   "cell_type": "code",
   "execution_count": 13,
   "metadata": {
    "collapsed": false
   },
   "outputs": [],
   "source": [
    "\n",
    "def f1_pr_rc(retrieved_list,num_pos):\n",
    "    a=retrieved_list\n",
    "    r=sum(a)/num_pos #recall\n",
    "    p=sum(a)/len(a) #precision\n",
    "    F1=2*r*p/(r+p)\n",
    "    return r,p,F1\n"
   ]
  },
  {
   "cell_type": "code",
   "execution_count": 14,
   "metadata": {
    "collapsed": false
   },
   "outputs": [],
   "source": [
    "q_rpf=f1_pr_rc(q.b_relevance,87)\n",
    "bm_rpf=f1_pr_rc(bm.b_relevance,87)\n",
    "ti_rpf=f1_pr_rc(ti.b_relevance,87)\n",
    "bo_rpf=f1_pr_rc(bo.b_relevance,87)\n",
    "bmp_rpf=f1_pr_rc(bmp.b_relevance,87)\n",
    "qp_rpf=f1_pr_rc(qp.b_relevance,87)\n",
    "tip_rpf=f1_pr_rc(tip.b_relevance,87)"
   ]
  },
  {
   "cell_type": "code",
   "execution_count": 15,
   "metadata": {
    "collapsed": false
   },
   "outputs": [
    {
     "data": {
      "text/plain": [
       "((0.27586206896551724, 0.80000000000000004, 0.4102564102564103),\n",
       " (0.25287356321839083, 0.73333333333333328, 0.37606837606837612),\n",
       " (0.25287356321839083, 0.73333333333333328, 0.37606837606837612),\n",
       " (0.13793103448275862, 0.40000000000000002, 0.20512820512820515),\n",
       " (0.10344827586206896, 0.29999999999999999, 0.15384615384615385),\n",
       " (0.068965517241379309, 0.20000000000000001, 0.10256410256410257),\n",
       " (0.12643678160919541, 0.36666666666666664, 0.18803418803418806))"
      ]
     },
     "execution_count": 15,
     "metadata": {},
     "output_type": "execute_result"
    }
   ],
   "source": [
    "bm_rpf,q_rpf,ti_rpf,bo_rpf,bmp_rpf,qp_rpf,tip_rpf"
   ]
  },
  {
   "cell_type": "code",
   "execution_count": 32,
   "metadata": {
    "collapsed": false
   },
   "outputs": [
    {
     "data": {
      "text/plain": [
       "0     1\n",
       "1     1\n",
       "2     1\n",
       "3     1\n",
       "4     1\n",
       "5     1\n",
       "6     1\n",
       "7     0\n",
       "8     0\n",
       "9     0\n",
       "10    0\n",
       "11    0\n",
       "12    0\n",
       "13    0\n",
       "14    1\n",
       "15    1\n",
       "16    1\n",
       "17    1\n",
       "18    1\n",
       "19    1\n",
       "20    1\n",
       "21    1\n",
       "22    1\n",
       "23    1\n",
       "24    0\n",
       "25    1\n",
       "26    1\n",
       "27    1\n",
       "28    1\n",
       "29    1\n",
       "Name: b_relevance, dtype: int64"
      ]
     },
     "execution_count": 32,
     "metadata": {},
     "output_type": "execute_result"
    }
   ],
   "source": [
    "q.b_relevance"
   ]
  },
  {
   "cell_type": "markdown",
   "metadata": {},
   "source": [
    "# Average Precision( AP)"
   ]
  },
  {
   "cell_type": "code",
   "execution_count": 54,
   "metadata": {
    "collapsed": true
   },
   "outputs": [],
   "source": [
    "def average_precision(retrieved_list):\n",
    "    a=retrieved_list\n",
    "    #a =[1,0,1,1,0,0,1,0,0,1]\n",
    "    p2=[]\n",
    "    for i,ai in enumerate(a):\n",
    "        if ai == 1:\n",
    "            p2.append(sum(a[:i+1])/(i+1))\n",
    "    ap=sum(p2)/len(p2)\n",
    "    return ap"
   ]
  },
  {
   "cell_type": "code",
   "execution_count": 76,
   "metadata": {
    "collapsed": false
   },
   "outputs": [],
   "source": [
    "q_ap=average_precision(q.b_relevance)\n",
    "bm_ap=average_precision(bm.b_relevance)\n",
    "ti_ap=average_precision(ti.b_relevance)"
   ]
  },
  {
   "cell_type": "code",
   "execution_count": 80,
   "metadata": {
    "collapsed": false
   },
   "outputs": [
    {
     "data": {
      "text/plain": [
       "(0.7680453371057574, 0.83884467417763642, 0.76675745831787867)"
      ]
     },
     "execution_count": 80,
     "metadata": {},
     "output_type": "execute_result"
    }
   ],
   "source": [
    "q_ap,bm_ap,ti_ap"
   ]
  },
  {
   "cell_type": "markdown",
   "metadata": {},
   "source": [
    "# precision at rank k(1,5,10)"
   ]
  },
  {
   "cell_type": "code",
   "execution_count": 57,
   "metadata": {
    "collapsed": true
   },
   "outputs": [],
   "source": [
    "def rank_precision(rank_k,retrieved_list):\n",
    "    precision=sum(retrieved_list[:rank_k])/rank_k\n",
    "    return precision"
   ]
  },
  {
   "cell_type": "code",
   "execution_count": 58,
   "metadata": {
    "collapsed": true
   },
   "outputs": [],
   "source": [
    "q_k=[rank_precision(1,q.b_relevance),rank_precision(5,q.b_relevance),rank_precision(10,q.b_relevance)]\n",
    "bm_k=[rank_precision(1,bm.b_relevance),rank_precision(5,bm.b_relevance),rank_precision(10,bm.b_relevance)]\n",
    "ti_k=[rank_precision(1,ti.b_relevance),rank_precision(5,ti.b_relevance),rank_precision(10,ti.b_relevance)]"
   ]
  },
  {
   "cell_type": "code",
   "execution_count": 59,
   "metadata": {
    "collapsed": false
   },
   "outputs": [
    {
     "data": {
      "text/plain": [
       "([1.0, 1.0, 0.69999999999999996],\n",
       " [1.0, 1.0, 0.69999999999999996],\n",
       " [1.0, 1.0, 0.69999999999999996])"
      ]
     },
     "execution_count": 59,
     "metadata": {},
     "output_type": "execute_result"
    }
   ],
   "source": [
    "q_k,bm_k,ti_k"
   ]
  },
  {
   "cell_type": "markdown",
   "metadata": {},
   "source": [
    "# R rank precision(1,3,5) and reciprocal rank (r=1)"
   ]
  },
  {
   "cell_type": "code",
   "execution_count": 25,
   "metadata": {
    "collapsed": true
   },
   "outputs": [],
   "source": [
    "def r_rank(num_rd,retrieved_list):\n",
    "    a_trans=np.cumsum(retrieved_list)\n",
    "    a_l = list(a_trans)\n",
    "    r_precision=num_rd/(a_l.index(num_rd)+1)\n",
    "    return r_precision"
   ]
  },
  {
   "cell_type": "code",
   "execution_count": 26,
   "metadata": {
    "collapsed": false
   },
   "outputs": [],
   "source": [
    "q_r=[r_rank(1,q.b_relevance),r_rank(3,q.b_relevance),r_rank(5,q.b_relevance)]\n",
    "bm_r=[r_rank(1,bm.b_relevance),r_rank(3,bm.b_relevance),r_rank(5,bm.b_relevance)]\n",
    "ti_r=[r_rank(1,ti.b_relevance),r_rank(3,ti.b_relevance),r_rank(5,ti.b_relevance)]"
   ]
  },
  {
   "cell_type": "code",
   "execution_count": 27,
   "metadata": {
    "collapsed": false
   },
   "outputs": [
    {
     "data": {
      "text/plain": [
       "([1.0, 1.0, 1.0], [1.0, 1.0, 1.0], [1.0, 1.0, 1.0])"
      ]
     },
     "execution_count": 27,
     "metadata": {},
     "output_type": "execute_result"
    }
   ],
   "source": [
    "q_r,bm_r,ti_r"
   ]
  },
  {
   "cell_type": "markdown",
   "metadata": {},
   "source": [
    "# Search length"
   ]
  },
  {
   "cell_type": "markdown",
   "metadata": {},
   "source": [
    "all ones"
   ]
  },
  {
   "cell_type": "markdown",
   "metadata": {},
   "source": [
    "# DCG"
   ]
  },
  {
   "cell_type": "code",
   "execution_count": 16,
   "metadata": {
    "collapsed": false
   },
   "outputs": [],
   "source": [
    "def DCG(k,retrieved_list):\n",
    "    return retrieved_list[0] + np.sum(retrieved_list[1:k] / np.log2(np.arange(2, k + 1)))\n"
   ]
  },
  {
   "cell_type": "code",
   "execution_count": 17,
   "metadata": {
    "collapsed": false
   },
   "outputs": [
    {
     "data": {
      "text/plain": [
       "(12.164764889692828,\n",
       " 10.300854059306404,\n",
       " 9.3690716193322938,\n",
       " 8.5149262617025183,\n",
       " 7.8322410335936308,\n",
       " 6.433265569569012,\n",
       " 8.0554284626729711)"
      ]
     },
     "execution_count": 17,
     "metadata": {},
     "output_type": "execute_result"
    }
   ],
   "source": [
    "DCG(30,bm.relevance),DCG(30, q.relevance),DCG(30,ti.relevance),DCG(30,bo.relevance),DCG(30,bmp.relevance),DCG(30,qp.relevance),DCG(30,tip.relevance)"
   ]
  },
  {
   "cell_type": "markdown",
   "metadata": {},
   "source": [
    "# Significant level test "
   ]
  }
 ],
 "metadata": {
  "kernelspec": {
   "display_name": "Python 3",
   "language": "python",
   "name": "python3"
  }
 },
 "nbformat": 4,
 "nbformat_minor": 2
}
