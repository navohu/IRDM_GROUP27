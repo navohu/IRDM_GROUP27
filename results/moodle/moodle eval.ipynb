{
 "cells": [
  {
   "cell_type": "code",
   "execution_count": 1,
   "metadata": {
    "collapsed": false
   },
   "outputs": [],
   "source": [
    "import sklearn as sk\n",
    "import pandas as pd\n",
    "import matplotlib.pyplot as plt\n",
    "import numpy as np\n",
    "import scipy as sp\n",
    "import matplotlib.patches as mpatches"
   ]
  },
  {
   "cell_type": "markdown",
   "metadata": {},
   "source": [
    "# Read data and preprocess"
   ]
  },
  {
   "cell_type": "code",
   "execution_count": 41,
   "metadata": {
    "collapsed": false
   },
   "outputs": [],
   "source": [
    "bm=pd.read_csv('BM25Ranking_moodl.csv')\n",
    "q=pd.read_csv('QueryLikelihoodRanking_moodl.csv')\n",
    "ti=pd.read_csv('TFIDFRanking_moodl.csv')\n",
    "bmp=pd.read_csv('BM25Ranking_PR_moodl.csv')\n",
    "qp=pd.read_csv('QueryLikelihoodRanking_PR_moodl.csv')\n",
    "tip=pd.read_csv('TFIDFRanking_PR_moodl.csv')\n",
    "#bo=pd.read_csv('BooleanRanking_moodl.csv')"
   ]
  },
  {
   "cell_type": "code",
   "execution_count": 43,
   "metadata": {
    "collapsed": false
   },
   "outputs": [],
   "source": [
    "def change_binary(data):\n",
    "    non_rel=[]\n",
    "    for x in data.relevance:\n",
    "        if x>0:\n",
    "            non_rel.append(1)\n",
    "        else: \n",
    "            non_rel.append(0)\n",
    "    data['b_relevance']=non_rel\n",
    "    return data\n",
    "q=change_binary(q)\n",
    "bm=change_binary(bm)\n",
    "ti=change_binary(ti)\n",
    "#bo=change_binary(bo)\n",
    "bmp=change_binary(bmp)\n",
    "qp=change_binary(qp)\n",
    "tip=change_binary(tip)"
   ]
  },
  {
   "cell_type": "code",
   "execution_count": 44,
   "metadata": {
    "collapsed": false
   },
   "outputs": [],
   "source": [
    "frames = [bm,q,ti,bmp,qp,tip]\n",
    "comb = pd.concat(frames)"
   ]
  },
  {
   "cell_type": "code",
   "execution_count": 45,
   "metadata": {
    "collapsed": false
   },
   "outputs": [
    {
     "data": {
      "text/plain": [
       "0    168\n",
       "2     12\n",
       "Name: relevance, dtype: int64"
      ]
     },
     "execution_count": 45,
     "metadata": {},
     "output_type": "execute_result"
    }
   ],
   "source": [
    "comb.relevance.value_counts()"
   ]
  },
  {
   "cell_type": "code",
   "execution_count": 46,
   "metadata": {
    "collapsed": false
   },
   "outputs": [],
   "source": [
    "cl_comb=comb.drop_duplicates()"
   ]
  },
  {
   "cell_type": "code",
   "execution_count": 47,
   "metadata": {
    "collapsed": false
   },
   "outputs": [
    {
     "data": {
      "text/plain": [
       "0    67\n",
       "2     2\n",
       "Name: relevance, dtype: int64"
      ]
     },
     "execution_count": 47,
     "metadata": {},
     "output_type": "execute_result"
    }
   ],
   "source": [
    "cl_comb.relevance.value_counts()"
   ]
  },
  {
   "cell_type": "code",
   "execution_count": 48,
   "metadata": {
    "collapsed": false
   },
   "outputs": [
    {
     "data": {
      "text/plain": [
       "69"
      ]
     },
     "execution_count": 48,
     "metadata": {},
     "output_type": "execute_result"
    }
   ],
   "source": [
    "len(cl_comb)"
   ]
  },
  {
   "cell_type": "markdown",
   "metadata": {},
   "source": [
    "there are overall 69 links, where 67 zeros, 0 ones and 2 twos. \n",
    "\n",
    "67 non-relevant docs, 2 relevant docs."
   ]
  },
  {
   "cell_type": "markdown",
   "metadata": {},
   "source": [
    "# calculate metrics"
   ]
  },
  {
   "cell_type": "code",
   "execution_count": 9,
   "metadata": {
    "collapsed": true
   },
   "outputs": [],
   "source": [
    "def pr_curve(retrieved_list,num_pos):\n",
    "    a=retrieved_list\n",
    "    #recall= retrieved relevant/retrieved relevant+not retrieved relevant\n",
    "    recall=[]\n",
    "    #precision = retrieved relevant/total retrieved\n",
    "    precision=[]\n",
    "    #num_pos=sum(t)\n",
    "    for i in range(1,len(a)):\n",
    "        recall.append(sum(a[:i])/num_pos)\n",
    "        precision.append(sum(a[:i])/i)\n",
    "    a=plt.plot(recall,precision,'-')\n",
    "    #plt.xlabel('recall')\n",
    "    #plt.ylabel('precision')\n",
    "    #plt.show()\n",
    "    return a\n"
   ]
  },
  {
   "cell_type": "code",
   "execution_count": 37,
   "metadata": {
    "collapsed": false
   },
   "outputs": [],
   "source": [
    "a=pr_curve(bm.b_relevance,2),\n",
    "b=pr_curve(q.b_relevance,2),\n",
    "c=pr_curve(ti.b_relevance,2)"
   ]
  },
  {
   "cell_type": "code",
   "execution_count": 38,
   "metadata": {
    "collapsed": false
   },
   "outputs": [
    {
     "data": {
      "image/png": "[encoded data removed]",
      "text/plain": [
       "<matplotlib.figure.Figure at 0x11d509630>"
      ]
     },
     "metadata": {},
     "output_type": "display_data"
    },
    {
     "data": {
      "text/plain": [
       "<matplotlib.legend.Legend at 0x11d612a58>"
      ]
     },
     "execution_count": 38,
     "metadata": {},
     "output_type": "execute_result"
    }
   ],
   "source": [
    "plt.show(b)\n",
    "plt.xlabel('recall')\n",
    "plt.ylabel('precision')\n",
    "plt.title('precision against recall plot ‘moodle‘')\n",
    "green_patch = mpatches.Patch(color='green', label='tf-idf')\n",
    "red_patch = mpatches.Patch(color='orange', label='QueryLikelihoodRanking')\n",
    "blue_patch = mpatches.Patch(color='blue', label='bm25')\n",
    "plt.legend(handles=[red_patch,green_patch,blue_patch])\n"
   ]
  },
  {
   "cell_type": "markdown",
   "metadata": {},
   "source": [
    "# recall, precision, F1"
   ]
  },
  {
   "cell_type": "code",
   "execution_count": 18,
   "metadata": {
    "collapsed": false
   },
   "outputs": [],
   "source": [
    "\n",
    "def f1_pr_rc(retrieved_list,num_pos):\n",
    "    a=retrieved_list\n",
    "    r=sum(a)/num_pos #recall\n",
    "    p=sum(a)/len(a) #precision\n",
    "    F1=2*r*p/(r+p)\n",
    "    return r,p,F1\n"
   ]
  },
  {
   "cell_type": "code",
   "execution_count": 49,
   "metadata": {
    "collapsed": true
   },
   "outputs": [],
   "source": [
    "q_rpf=f1_pr_rc(q.b_relevance,2)\n",
    "bm_rpf=f1_pr_rc(bm.b_relevance,2)\n",
    "ti_rpf=f1_pr_rc(ti.b_relevance,2)\n",
    "bmp_rpf=f1_pr_rc(bmp.b_relevance,2)\n",
    "qp_rpf=f1_pr_rc(qp.b_relevance,2)\n",
    "tip_rpf=f1_pr_rc(tip.b_relevance,2)"
   ]
  },
  {
   "cell_type": "code",
   "execution_count": 51,
   "metadata": {
    "collapsed": false
   },
   "outputs": [
    {
     "data": {
      "text/plain": [
       "((1.0, 0.066666666666666666, 0.125),\n",
       " (1.0, 0.066666666666666666, 0.125),\n",
       " (1.0, 0.066666666666666666, 0.125),\n",
       " (1.0, 0.066666666666666666, 0.125),\n",
       " (1.0, 0.066666666666666666, 0.125),\n",
       " (1.0, 0.066666666666666666, 0.125))"
      ]
     },
     "execution_count": 51,
     "metadata": {},
     "output_type": "execute_result"
    }
   ],
   "source": [
    "bm_rpf,q_rpf,ti_rpf,bmp_rpf,qp_rpf,tip_rpf"
   ]
  },
  {
   "cell_type": "markdown",
   "metadata": {},
   "source": [
    "# Average Precision( AP)"
   ]
  },
  {
   "cell_type": "code",
   "execution_count": 21,
   "metadata": {
    "collapsed": true
   },
   "outputs": [],
   "source": [
    "def average_precision(retrieved_list):\n",
    "    a=retrieved_list\n",
    "    #a =[1,0,1,1,0,0,1,0,0,1]\n",
    "    p2=[]\n",
    "    for i,ai in enumerate(a):\n",
    "        if ai == 1:\n",
    "            p2.append(sum(a[:i+1])/(i+1))\n",
    "    ap=sum(p2)/len(p2)\n",
    "    return ap"
   ]
  },
  {
   "cell_type": "code",
   "execution_count": 22,
   "metadata": {
    "collapsed": false
   },
   "outputs": [],
   "source": [
    "q_ap=average_precision(q.b_relevance)\n",
    "bm_ap=average_precision(bm.b_relevance)\n",
    "ti_ap=average_precision(ti.b_relevance)"
   ]
  },
  {
   "cell_type": "code",
   "execution_count": 23,
   "metadata": {
    "collapsed": false
   },
   "outputs": [
    {
     "data": {
      "text/plain": [
       "1.0"
      ]
     },
     "execution_count": 23,
     "metadata": {},
     "output_type": "execute_result"
    }
   ],
   "source": [
    "q_ap,\n",
    "bm_ap,\n",
    "ti_ap"
   ]
  },
  {
   "cell_type": "markdown",
   "metadata": {},
   "source": [
    "# precision at rank k(1,5,10)"
   ]
  },
  {
   "cell_type": "code",
   "execution_count": 24,
   "metadata": {
    "collapsed": true
   },
   "outputs": [],
   "source": [
    "def rank_precision(rank_k,retrieved_list):\n",
    "    precision=sum(retrieved_list[:rank_k])/rank_k\n",
    "    return precision"
   ]
  },
  {
   "cell_type": "code",
   "execution_count": 25,
   "metadata": {
    "collapsed": true
   },
   "outputs": [],
   "source": [
    "q_k=[rank_precision(1,q.b_relevance),rank_precision(5,q.b_relevance),rank_precision(10,q.b_relevance)]\n",
    "bm_k=[rank_precision(1,bm.b_relevance),rank_precision(5,bm.b_relevance),rank_precision(10,bm.b_relevance)]\n",
    "ti_k=[rank_precision(1,ti.b_relevance),rank_precision(5,ti.b_relevance),rank_precision(10,ti.b_relevance)]"
   ]
  },
  {
   "cell_type": "code",
   "execution_count": 26,
   "metadata": {
    "collapsed": false
   },
   "outputs": [
    {
     "data": {
      "text/plain": [
       "([1.0, 0.40000000000000002, 0.20000000000000001],\n",
       " [1.0, 0.40000000000000002, 0.20000000000000001],\n",
       " [1.0, 0.40000000000000002, 0.20000000000000001])"
      ]
     },
     "execution_count": 26,
     "metadata": {},
     "output_type": "execute_result"
    }
   ],
   "source": [
    "q_k,bm_k,ti_k"
   ]
  },
  {
   "cell_type": "markdown",
   "metadata": {},
   "source": [
    "# R rank precision(1,3,5) and reciprocal rank (r=1)"
   ]
  },
  {
   "cell_type": "code",
   "execution_count": 27,
   "metadata": {
    "collapsed": true
   },
   "outputs": [],
   "source": [
    "def r_rank(num_rd,retrieved_list):\n",
    "    a_trans=np.cumsum(retrieved_list)\n",
    "    a_l = list(a_trans)\n",
    "    r_precision=num_rd/(a_l.index(num_rd)+1)\n",
    "    return r_precision"
   ]
  },
  {
   "cell_type": "code",
   "execution_count": 28,
   "metadata": {
    "collapsed": false
   },
   "outputs": [
    {
     "ename": "ValueError",
     "evalue": "3 is not in list",
     "output_type": "error",
     "traceback": [
      "\u001b[0;31m---------------------------------------------------------------------------\u001b[0m",
      "\u001b[0;31mValueError\u001b[0m                                Traceback (most recent call last)",
      "\u001b[0;32m<ipython-input-28-eb377f55f552>\u001b[0m in \u001b[0;36m<module>\u001b[0;34m()\u001b[0m\n\u001b[0;32m----> 1\u001b[0;31m \u001b[0mq_r\u001b[0m\u001b[0;34m=\u001b[0m\u001b[0;34m[\u001b[0m\u001b[0mr_rank\u001b[0m\u001b[0;34m(\u001b[0m\u001b[0;36m1\u001b[0m\u001b[0;34m,\u001b[0m\u001b[0mq\u001b[0m\u001b[0;34m.\u001b[0m\u001b[0mb_relevance\u001b[0m\u001b[0;34m)\u001b[0m\u001b[0;34m,\u001b[0m\u001b[0mr_rank\u001b[0m\u001b[0;34m(\u001b[0m\u001b[0;36m3\u001b[0m\u001b[0;34m,\u001b[0m\u001b[0mq\u001b[0m\u001b[0;34m.\u001b[0m\u001b[0mb_relevance\u001b[0m\u001b[0;34m)\u001b[0m\u001b[0;34m,\u001b[0m\u001b[0mr_rank\u001b[0m\u001b[0;34m(\u001b[0m\u001b[0;36m5\u001b[0m\u001b[0;34m,\u001b[0m\u001b[0mq\u001b[0m\u001b[0;34m.\u001b[0m\u001b[0mb_relevance\u001b[0m\u001b[0;34m)\u001b[0m\u001b[0;34m]\u001b[0m\u001b[0;34m\u001b[0m\u001b[0m\n\u001b[0m\u001b[1;32m      2\u001b[0m \u001b[0mbm_r\u001b[0m\u001b[0;34m=\u001b[0m\u001b[0;34m[\u001b[0m\u001b[0mr_rank\u001b[0m\u001b[0;34m(\u001b[0m\u001b[0;36m1\u001b[0m\u001b[0;34m,\u001b[0m\u001b[0mbm\u001b[0m\u001b[0;34m.\u001b[0m\u001b[0mb_relevance\u001b[0m\u001b[0;34m)\u001b[0m\u001b[0;34m,\u001b[0m\u001b[0mr_rank\u001b[0m\u001b[0;34m(\u001b[0m\u001b[0;36m3\u001b[0m\u001b[0;34m,\u001b[0m\u001b[0mbm\u001b[0m\u001b[0;34m.\u001b[0m\u001b[0mb_relevance\u001b[0m\u001b[0;34m)\u001b[0m\u001b[0;34m,\u001b[0m\u001b[0mr_rank\u001b[0m\u001b[0;34m(\u001b[0m\u001b[0;36m5\u001b[0m\u001b[0;34m,\u001b[0m\u001b[0mbm\u001b[0m\u001b[0;34m.\u001b[0m\u001b[0mb_relevance\u001b[0m\u001b[0;34m)\u001b[0m\u001b[0;34m]\u001b[0m\u001b[0;34m\u001b[0m\u001b[0m\n\u001b[1;32m      3\u001b[0m \u001b[0mti_r\u001b[0m\u001b[0;34m=\u001b[0m\u001b[0;34m[\u001b[0m\u001b[0mr_rank\u001b[0m\u001b[0;34m(\u001b[0m\u001b[0;36m1\u001b[0m\u001b[0;34m,\u001b[0m\u001b[0mti\u001b[0m\u001b[0;34m.\u001b[0m\u001b[0mb_relevance\u001b[0m\u001b[0;34m)\u001b[0m\u001b[0;34m,\u001b[0m\u001b[0mr_rank\u001b[0m\u001b[0;34m(\u001b[0m\u001b[0;36m3\u001b[0m\u001b[0;34m,\u001b[0m\u001b[0mti\u001b[0m\u001b[0;34m.\u001b[0m\u001b[0mb_relevance\u001b[0m\u001b[0;34m)\u001b[0m\u001b[0;34m,\u001b[0m\u001b[0mr_rank\u001b[0m\u001b[0;34m(\u001b[0m\u001b[0;36m5\u001b[0m\u001b[0;34m,\u001b[0m\u001b[0mti\u001b[0m\u001b[0;34m.\u001b[0m\u001b[0mb_relevance\u001b[0m\u001b[0;34m)\u001b[0m\u001b[0;34m]\u001b[0m\u001b[0;34m\u001b[0m\u001b[0m\n",
      "\u001b[0;32m<ipython-input-27-0e84c69d5dad>\u001b[0m in \u001b[0;36mr_rank\u001b[0;34m(num_rd, retrieved_list)\u001b[0m\n\u001b[1;32m      2\u001b[0m     \u001b[0ma_trans\u001b[0m\u001b[0;34m=\u001b[0m\u001b[0mnp\u001b[0m\u001b[0;34m.\u001b[0m\u001b[0mcumsum\u001b[0m\u001b[0;34m(\u001b[0m\u001b[0mretrieved_list\u001b[0m\u001b[0;34m)\u001b[0m\u001b[0;34m\u001b[0m\u001b[0m\n\u001b[1;32m      3\u001b[0m     \u001b[0ma_l\u001b[0m \u001b[0;34m=\u001b[0m \u001b[0mlist\u001b[0m\u001b[0;34m(\u001b[0m\u001b[0ma_trans\u001b[0m\u001b[0;34m)\u001b[0m\u001b[0;34m\u001b[0m\u001b[0m\n\u001b[0;32m----> 4\u001b[0;31m     \u001b[0mr_precision\u001b[0m\u001b[0;34m=\u001b[0m\u001b[0mnum_rd\u001b[0m\u001b[0;34m/\u001b[0m\u001b[0;34m(\u001b[0m\u001b[0ma_l\u001b[0m\u001b[0;34m.\u001b[0m\u001b[0mindex\u001b[0m\u001b[0;34m(\u001b[0m\u001b[0mnum_rd\u001b[0m\u001b[0;34m)\u001b[0m\u001b[0;34m+\u001b[0m\u001b[0;36m1\u001b[0m\u001b[0;34m)\u001b[0m\u001b[0;34m\u001b[0m\u001b[0m\n\u001b[0m\u001b[1;32m      5\u001b[0m     \u001b[0;32mreturn\u001b[0m \u001b[0mr_precision\u001b[0m\u001b[0;34m\u001b[0m\u001b[0m\n",
      "\u001b[0;31mValueError\u001b[0m: 3 is not in list"
     ]
    }
   ],
   "source": [
    "q_r=[r_rank(1,q.b_relevance),r_rank(3,q.b_relevance),r_rank(5,q.b_relevance)]\n",
    "bm_r=[r_rank(1,bm.b_relevance),r_rank(3,bm.b_relevance),r_rank(5,bm.b_relevance)]\n",
    "ti_r=[r_rank(1,ti.b_relevance),r_rank(3,ti.b_relevance),r_rank(5,ti.b_relevance)]"
   ]
  },
  {
   "cell_type": "code",
   "execution_count": 29,
   "metadata": {
    "collapsed": false
   },
   "outputs": [
    {
     "ename": "NameError",
     "evalue": "name 'q_r' is not defined",
     "output_type": "error",
     "traceback": [
      "\u001b[0;31m---------------------------------------------------------------------------\u001b[0m",
      "\u001b[0;31mNameError\u001b[0m                                 Traceback (most recent call last)",
      "\u001b[0;32m<ipython-input-29-5988257a3c8b>\u001b[0m in \u001b[0;36m<module>\u001b[0;34m()\u001b[0m\n\u001b[0;32m----> 1\u001b[0;31m \u001b[0mq_r\u001b[0m\u001b[0;34m,\u001b[0m\u001b[0mbm_r\u001b[0m\u001b[0;34m,\u001b[0m\u001b[0mti_r\u001b[0m\u001b[0;34m\u001b[0m\u001b[0m\n\u001b[0m",
      "\u001b[0;31mNameError\u001b[0m: name 'q_r' is not defined"
     ]
    }
   ],
   "source": [
    "q_r,bm_r,ti_r"
   ]
  },
  {
   "cell_type": "markdown",
   "metadata": {},
   "source": [
    "# Search length"
   ]
  },
  {
   "cell_type": "markdown",
   "metadata": {},
   "source": [
    "all ones"
   ]
  },
  {
   "cell_type": "markdown",
   "metadata": {},
   "source": [
    "# DCG"
   ]
  },
  {
   "cell_type": "code",
   "execution_count": 34,
   "metadata": {
    "collapsed": false
   },
   "outputs": [],
   "source": [
    "def DCG(k,retrieved_list):\n",
    "    return retrieved_list[0] + np.sum(retrieved_list[1:k] / np.log2(np.arange(2, k + 1)))\n"
   ]
  },
  {
   "cell_type": "code",
   "execution_count": 54,
   "metadata": {
    "collapsed": false
   },
   "outputs": [
    {
     "data": {
      "text/plain": [
       "(4.0, 4.0, 4.0, 4.0, 4.0, 4.0)"
      ]
     },
     "execution_count": 54,
     "metadata": {},
     "output_type": "execute_result"
    }
   ],
   "source": [
    "DCG(30,bm.relevance),DCG(30, q.relevance),DCG(30,ti.relevance),DCG(30,bmp.relevance),DCG(30,qp.relevance),DCG(30,tip.relevance)"
   ]
  },
  {
   "cell_type": "markdown",
   "metadata": {},
   "source": [
    "# Significant level test "
   ]
  }
 ],
 "metadata": {
  "kernelspec": {
   "display_name": "Python 3",
   "language": "python",
   "name": "python3"
  },
  "language_info": {
   "codemirror_mode": {
    "name": "ipython",
    "version": 3
   },
   "file_extension": ".py",
   "mimetype": "text/x-python",
   "name": "python",
   "nbconvert_exporter": "python",
   "pygments_lexer": "ipython3",
   "version": "3.6.1"
  }
 },
 "nbformat": 4,
 "nbformat_minor": 2
}
